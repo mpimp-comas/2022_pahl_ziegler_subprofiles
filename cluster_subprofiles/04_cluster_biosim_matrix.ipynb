{
 "cells": [
  {
   "cell_type": "markdown",
   "metadata": {},
   "source": [
    "# Calculate the Cluster Biosimilarity Matrix\n",
    "\n",
    "For a given set of measurements, This Notebook calculates the similarity to all defined clusters.  \n",
    "and displays the result as a matrix.\n",
    "\n",
    "In addition, two heat maps are generated for the given measurements:\n",
    "\n",
    "* Full profile heat map with all 579 features\n",
    "* Heat map of the cluster profile using only the cluster features with the median cluster profile on top"
   ]
  },
  {
   "cell_type": "code",
   "execution_count": null,
   "metadata": {},
   "outputs": [],
   "source": [
    "CONFIGS = {\n",
    "    \"Tubulin\": {\n",
    "        \"well_Ids\": [\"413124:01:04_01.00\", \"392587:02:03_00.20\"],\n",
    "        \"labels\": [\"1.0 µM KG 5\", \"0.2 µM AZ 960\"],\n",
    "        \"hm_full_well_id\": \"245354:03:12_00.10\",\n",
    "        \"hm_full_label\": \"0.1 µM Nocodazole\",\n",
    "        \"cluster_name\": \"Tubulin\",\n",
    "        \"height\": 1.5\n",
    "    },\n",
    "    \"HDAC\": {\n",
    "        \"well_Ids\": [\n",
    "            \"105083:01:14_10.00\", \n",
    "            \"105083:01:14_30.00\", \n",
    "            \"105096:01:10_10.00\", \n",
    "            \"105096:01:10_30.00\", \n",
    "        ],\n",
    "        \"labels\": [\n",
    "            \"10 µM Cpd 1\", \"30 µM Cpd 1\", \"10 µM Cpd 2\", \"30 µM Cpd 2\", \n",
    "        ],\n",
    "        \"hm_full_well_id\": \"410804:01:03_02.00\",\n",
    "        \"hm_full_label\": \"2 µM TSA\",\n",
    "        \"cluster_name\": \"HDAC\",\n",
    "        \"height\": 3.0\n",
    "    },\n",
    "    \"Protein Synth\": {\n",
    "        \"well_Ids\": [\"411099:01:05_01.00\", \"344315:01:04_10.00\"],\n",
    "        \"labels\": [\" 1 µM LDN193189\", \"10 µM Cpd 3\"],\n",
    "        \"hm_full_well_id\": \"247300:01:15_01.00\",\n",
    "        \"hm_full_label\": \"1 µM Cycloheximide\",\n",
    "        \"cluster_name\": \"Protein_Synth\",\n",
    "        \"height\": 1.5\n",
    "    },\n",
    "    \"HTH\": {\n",
    "        # Used for cluster similarity matrix only (Fig. 6B)\n",
    "        \"well_Ids\": [\"394207:01:09_03.00\", \"394207:01:08_10.00\"],\n",
    "        \"labels\": [\" 3 µM HTH-01-015\", \"10 µM HTH-01-015\"],\n",
    "        \"hm_full_well_id\": \"\",\n",
    "        \"hm_full_label\": \"\",\n",
    "        \"cluster_name\": \"HTH\",\n",
    "        \"height\": 1.5\n",
    "    }\n",
    "}"
   ]
  },
  {
   "cell_type": "code",
   "execution_count": null,
   "metadata": {},
   "outputs": [],
   "source": [
    "# \"Tubulin\", \"HDAC\", \"Protein Synth\", \"HTH\"\n",
    "example = \"HTH\"\n",
    "config = CONFIGS[example]\n",
    "\n",
    "w_ids = config[\"well_Ids\"]\n",
    "cl_label = f\"{example:>15s}\"\n",
    "labels = [f\"{x:>15s}\" for x in config[\"labels\"]]\n",
    "cluster_name = config[\"cluster_name\"]\n",
    "height = config[\"height\"]"
   ]
  },
  {
   "cell_type": "code",
   "execution_count": null,
   "metadata": {
    "ExecuteTime": {
     "end_time": "2021-08-27T11:39:06.916031Z",
     "start_time": "2021-08-27T11:39:05.887250Z"
    },
    "autorun": true,
    "execution": {
     "iopub.execute_input": "2021-10-14T13:54:24.654194Z",
     "iopub.status.busy": "2021-10-14T13:54:24.653968Z",
     "iopub.status.idle": "2021-10-14T13:54:25.533578Z",
     "shell.execute_reply": "2021-10-14T13:54:25.533026Z",
     "shell.execute_reply.started": "2021-10-14T13:54:24.654134Z"
    },
    "hide_input": true,
    "init_cell": true,
    "tags": []
   },
   "outputs": [],
   "source": [
    "%reload_ext autoreload\n",
    "%autoreload 2\n",
    "\n",
    "import sys\n",
    "import os.path as op\n",
    "\n",
    "from typing import Iterable, List\n",
    "\n",
    "import numpy as np\n",
    "import pandas as pd\n",
    "\n",
    "import matplotlib.pyplot as plt\n",
    "from matplotlib import cm\n",
    "from matplotlib.colors import ListedColormap\n",
    "import seaborn as sns\n",
    "\n",
    "from IPython.display import HTML, display \n",
    "\n",
    "# from tqdm.notebook import tqdm\n",
    "import ipywidgets as ipyw\n",
    "from IPython.core.interactiveshell import InteractiveShell\n",
    "InteractiveShell.ast_node_interactivity = \"all\"\n",
    "\n",
    "from jupy_tools import plt_style, cpa\n",
    "from jupy_tools import utils as u\n",
    "from jupy_tools.utils import info\n",
    "u.timestamp()"
   ]
  },
  {
   "cell_type": "markdown",
   "metadata": {},
   "source": [
    "## Load Data Set"
   ]
  },
  {
   "cell_type": "code",
   "execution_count": null,
   "metadata": {
    "ExecuteTime": {
     "end_time": "2021-08-27T10:30:31.796742Z",
     "start_time": "2021-08-27T10:30:30.638722Z"
    },
    "execution": {
     "iopub.execute_input": "2021-10-14T13:54:25.534268Z",
     "iopub.status.busy": "2021-10-14T13:54:25.534144Z",
     "iopub.status.idle": "2021-10-14T13:54:25.872112Z",
     "shell.execute_reply": "2021-10-14T13:54:25.871021Z",
     "shell.execute_reply.started": "2021-10-14T13:54:25.534252Z"
    },
    "tags": []
   },
   "outputs": [],
   "source": [
    "ds_refs = u.read_tsv(\"../output/ds_refs_sim_to_clusters.tsv\")"
   ]
  },
  {
   "cell_type": "code",
   "execution_count": null,
   "metadata": {},
   "outputs": [],
   "source": [
    "clusters_short = cpa.get_func_cluster_names()\n",
    "clusters_long = [f\"Cluster_{cl}\" for cl in clusters_short]\n",
    "renames = {cl_long: cl_short for cl_long, cl_short in zip(clusters_long, clusters_short)}"
   ]
  },
  {
   "cell_type": "markdown",
   "metadata": {},
   "source": [
    "Some specific Renames for nicer legends:"
   ]
  },
  {
   "cell_type": "code",
   "execution_count": null,
   "metadata": {},
   "outputs": [],
   "source": [
    "renames[\"Cluster_AKT_PI3K_MTOR\"] = \"AKT/PI3K/MTOR\"\n",
    "renames[\"Cluster_DNA_Synth\"] = \"DNA Synth\"\n",
    "renames[\"Cluster_Na_K-ATPase\"] = \"Na+/K+-ATPase\"\n",
    "renames[\"Cluster_Protein_Synth\"] = \"Protein Synth\"\n",
    "renames[\"Cluster_Pyrimidine_Synth\"] = \"Pyrimid. Synth\"\n",
    "renames\n"
   ]
  },
  {
   "cell_type": "markdown",
   "metadata": {},
   "source": [
    "Create a custom colormap where the lowest value is mapped to white:"
   ]
  },
  {
   "cell_type": "code",
   "execution_count": null,
   "metadata": {},
   "outputs": [],
   "source": [
    "blues = cm.get_cmap(\"Blues\", 20)\n",
    "white_blue = blues(np.linspace(0, 1, 20))\n",
    "white_blue[0, :] = 1\n",
    "wb_cm = ListedColormap(white_blue)"
   ]
  },
  {
   "cell_type": "code",
   "execution_count": null,
   "metadata": {},
   "outputs": [],
   "source": [
    "columns = [\"Well_Id\"]\n",
    "columns.extend(clusters_long)\n",
    "df_cpds = ds_refs[ds_refs[\"Well_Id\"].isin(w_ids)]\n",
    "# Sort the filtered dataframe according to the Well_Id input list.\n",
    "# StackOverflow: https://stackoverflow.com/a/58622999\n",
    "# This is needed to have the correct order in the heatmap later on:\n",
    "df_cpds = df_cpds.set_index('Well_Id').loc[w_ids].reset_index()\n",
    "print(len(df_cpds))\n",
    "df_cpds[\"Well_Id_org\"] = df_cpds[\"Well_Id\"]\n",
    "df_cpds[\"Well_Id\"] = labels\n",
    "df_biosim = df_cpds[columns].copy()\n",
    "df_biosim"
   ]
  },
  {
   "cell_type": "code",
   "execution_count": null,
   "metadata": {},
   "outputs": [],
   "source": [
    "# other color schems considered: 1 - afmhot_r; 2 - binary; \n",
    "tmp = df_biosim.copy()\n",
    "tmp = tmp.rename(columns=renames)\n",
    "tmp.set_index(\"Well_Id\", inplace=True)\n",
    "f, ax = plt.subplots(figsize=(14, height))\n",
    "hm = sns.heatmap(tmp, annot=True, fmt=\".0f\", linewidths=.5, annot_kws={\"size\": 22}, cmap=wb_cm, vmin=80.0, vmax=100.0, ax=ax);\n",
    "# hm.invert_yaxis()\n",
    "hm.set_ylabel(\"\")\n",
    "hm.set_title(\"Cluster Biosimilaritites\")\n",
    "fig = hm.get_figure()\n",
    "plt.savefig(f\"plots/ex_{cluster_name.lower()}_biosim.png\", bbox_inches='tight')\n",
    "plt.savefig(f\"plots/ex_{cluster_name.lower()}_biosim.svg\", bbox_inches='tight')"
   ]
  },
  {
   "cell_type": "code",
   "execution_count": null,
   "metadata": {},
   "outputs": [],
   "source": []
  },
  {
   "cell_type": "markdown",
   "metadata": {},
   "source": [
    "## Heatmap Full Profile"
   ]
  },
  {
   "cell_type": "code",
   "execution_count": null,
   "metadata": {},
   "outputs": [],
   "source": [
    "def heatmap(df_mp: pd.DataFrame, fn=\"heatmap\", features=None):\n",
    "    if features is None:\n",
    "        features = cpa.ACT_PROF_FEATURES\n",
    "    size = 2.77 + (17.0 * len(features) / 579)\n",
    "    width = int(160.0 + (1020 * len(features) / 579))\n",
    "    hm = cpa.heat_mpl(\n",
    "        df_mp, id_prop=\"Well_Id\", features=features, show=False, \n",
    "        biosim=True, \n",
    "        img_size = size, img_tag_options=f'style=\"width: {width}px;\"',\n",
    "        # save_to_file=[f\"plots/{fn}.png\", f\"plots/{fn}.svg\"]\n",
    "        save_to_file=f\"plots/{fn}.svg\"\n",
    "    )"
   ]
  },
  {
   "cell_type": "code",
   "execution_count": null,
   "metadata": {},
   "outputs": [],
   "source": [
    "columns = [\"Well_Id_org\", \"Well_Id\", \"Induction\", \"Rel_Cell_Count\", \"Conc_uM\"]\n",
    "if config[\"hm_full_well_id\"] != \"\":\n",
    "    tmp = ds_refs[ds_refs[\"Well_Id\"] == config[\"hm_full_well_id\"]].copy()\n",
    "    tmp[\"Well_Id_org\"] = tmp[\"Well_Id\"]\n",
    "    tmp[\"Well_Id\"] = config[\"hm_full_label\"]\n",
    "    df_hm_full = pd.concat([tmp, df_cpds]).reset_index(drop=True)\n",
    "else:\n",
    "    df_hm_full = df_cpds.copy()\n",
    "u.write_tsv(df_hm_full[columns], f\"plots/ex_{cluster_name.lower()}_hm_ylabels.tsv\")\n",
    "df_hm_full[columns]"
   ]
  },
  {
   "cell_type": "code",
   "execution_count": null,
   "metadata": {},
   "outputs": [],
   "source": [
    "heatmap(df_hm_full, fn=f\"ex_{cluster_name.lower()}_hm_full\")"
   ]
  },
  {
   "cell_type": "code",
   "execution_count": null,
   "metadata": {},
   "outputs": [],
   "source": []
  },
  {
   "cell_type": "markdown",
   "metadata": {},
   "source": [
    "## Heatmap Cluster Subprofile"
   ]
  },
  {
   "cell_type": "code",
   "execution_count": null,
   "metadata": {},
   "outputs": [],
   "source": [
    "if example != \"HTH\":\n",
    "    df_cl = cpa.get_func_cluster_features(cluster_name)\n",
    "    df_cl[\"Well_Id\"] = cl_label\n",
    "    info(df_cl)\n",
    "\n",
    "    cl_feat = cpa.feature_data(df_cl)\n",
    "    info(cl_feat)\n",
    "    tmp = pd.concat([df_cl, df_cpds])\n",
    "    heatmap(tmp, fn=f\"ex_{cluster_name.lower()}_hm_cluster\", features=cl_feat)"
   ]
  },
  {
   "cell_type": "code",
   "execution_count": null,
   "metadata": {},
   "outputs": [],
   "source": [
    "if example == \"HTH\":\n",
    "    well_ids = [\"394207:01:08_10.00\", \"392522:03:05_00.20\", \"392321:04:03_02.00\", \"410784:01:03_00.20\"]\n",
    "    labels = [\"HTH-01-015 10µM\", \"SNS-314\", \"ZM-447439\", \"Barasertib\"]\n",
    "    \n",
    "    df_cpds = ds_refs[ds_refs[\"Well_Id\"].isin(well_ids)].copy()\n",
    "    # Sort the filtered dataframe according to the Well_Id input list.\n",
    "    # StackOverflow: https://stackoverflow.com/a/58622999\n",
    "    # This is needed to have the correct order in the heatmap later on:\n",
    "    df_cpds = df_cpds.set_index('Well_Id').loc[well_ids].reset_index()\n",
    "    print(len(df_cpds))\n",
    "    df_cpds[\"Well_Id_org\"] = df_cpds[\"Well_Id\"]\n",
    "    df_cpds[\"Well_Id\"] = labels\n",
    "\n",
    "    df_cl = cpa.get_func_cluster_features(\"LCH\")\n",
    "    cl_feat = list(cpa.get_func_cluster_features(\"LCH\", include_well_id=False).keys())\n",
    "    non_cl_feat = cpa.remaining_features(cl_feat)\n",
    "    print(len(non_cl_feat))\n",
    "    heatmap(df_cpds, fn=f\"ex_{cluster_name.lower()}_hm_cluster_non-lch_feat\", features=non_cl_feat)"
   ]
  },
  {
   "cell_type": "code",
   "execution_count": null,
   "metadata": {},
   "outputs": [],
   "source": []
  }
 ],
 "metadata": {
  "hide_input": false,
  "kernelspec": {
   "display_name": "subprof",
   "language": "python",
   "name": "python3"
  },
  "language_info": {
   "codemirror_mode": {
    "name": "ipython",
    "version": 3
   },
   "file_extension": ".py",
   "mimetype": "text/x-python",
   "name": "python",
   "nbconvert_exporter": "python",
   "pygments_lexer": "ipython3",
   "version": "3.9.12"
  },
  "nav_menu": {},
  "toc": {
   "base_numbering": 1,
   "nav_menu": {},
   "number_sections": true,
   "sideBar": true,
   "skip_h1_title": true,
   "title_cell": "Table of Contents",
   "title_sidebar": "Contents",
   "toc_cell": false,
   "toc_position": {},
   "toc_section_display": "block",
   "toc_window_display": false
  },
  "toc-autonumbering": true,
  "toc-showcode": false,
  "toc-showtags": false,
  "vscode": {
   "interpreter": {
    "hash": "c6ec9714a79777eae1ae2d9b0151c7a796f40272fd9461fa5f8f3d73b3926ef5"
   }
  }
 },
 "nbformat": 4,
 "nbformat_minor": 4
}
