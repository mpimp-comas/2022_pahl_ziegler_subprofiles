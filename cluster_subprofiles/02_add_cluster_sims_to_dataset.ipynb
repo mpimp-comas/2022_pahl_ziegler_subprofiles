{
 "cells": [
  {
   "cell_type": "markdown",
   "metadata": {},
   "source": [
    "# Add Cluster Similarities to Data Set\n",
    "\n",
    "For each measurement,\n",
    "\n",
    "* add the similarity to each functional cluster\n",
    "* add the cluster with the highest similarity and its similarity value"
   ]
  },
  {
   "cell_type": "code",
   "execution_count": 1,
   "metadata": {
    "ExecuteTime": {
     "end_time": "2021-08-27T11:39:06.916031Z",
     "start_time": "2021-08-27T11:39:05.887250Z"
    },
    "autorun": true,
    "execution": {
     "iopub.execute_input": "2021-10-14T13:54:24.654194Z",
     "iopub.status.busy": "2021-10-14T13:54:24.653968Z",
     "iopub.status.idle": "2021-10-14T13:54:25.533578Z",
     "shell.execute_reply": "2021-10-14T13:54:25.533026Z",
     "shell.execute_reply.started": "2021-10-14T13:54:24.654134Z"
    },
    "hide_input": true,
    "init_cell": true,
    "tags": []
   },
   "outputs": [
    {
     "name": "stdout",
     "output_type": "stream",
     "text": [
      "Timestamp: 05-Jul-2022 12:15:28\n"
     ]
    }
   ],
   "source": [
    "%reload_ext autoreload\n",
    "%autoreload 2\n",
    "\n",
    "import sys\n",
    "import os.path as op\n",
    "\n",
    "from typing import Iterable, List\n",
    "\n",
    "import numpy as np\n",
    "import pandas as pd\n",
    "\n",
    "import matplotlib.pyplot as plt\n",
    "import seaborn as sns\n",
    "\n",
    "from IPython.display import HTML, display \n",
    "\n",
    "import ipywidgets as ipyw\n",
    "from IPython.core.interactiveshell import InteractiveShell\n",
    "InteractiveShell.ast_node_interactivity = \"all\"\n",
    "\n",
    "from jupy_tools import plt_style, cpa\n",
    "from jupy_tools import utils as u\n",
    "from jupy_tools.utils import info\n",
    "u.timestamp()"
   ]
  },
  {
   "cell_type": "markdown",
   "metadata": {},
   "source": [
    "## Load Data Set"
   ]
  },
  {
   "cell_type": "code",
   "execution_count": 2,
   "metadata": {
    "ExecuteTime": {
     "end_time": "2021-08-27T10:30:31.796742Z",
     "start_time": "2021-08-27T10:30:30.638722Z"
    },
    "execution": {
     "iopub.execute_input": "2021-10-14T13:54:25.534268Z",
     "iopub.status.busy": "2021-10-14T13:54:25.534144Z",
     "iopub.status.idle": "2021-10-14T13:54:25.872112Z",
     "shell.execute_reply": "2021-10-14T13:54:25.871021Z",
     "shell.execute_reply.started": "2021-10-14T13:54:25.534252Z"
    },
    "tags": []
   },
   "outputs": [
    {
     "name": "stdout",
     "output_type": "stream",
     "text": [
      "read_tsv                           : [    3560 / 589 ] \n"
     ]
    }
   ],
   "source": [
    "ds_refs = u.read_tsv(\"../input/ds_refs.tsv\")"
   ]
  },
  {
   "cell_type": "markdown",
   "metadata": {},
   "source": [
    "## Add Similarities to Functional Clusters"
   ]
  },
  {
   "cell_type": "code",
   "execution_count": 3,
   "metadata": {
    "ExecuteTime": {
     "end_time": "2021-08-27T10:38:36.499527Z",
     "start_time": "2021-08-27T10:38:36.458517Z"
    },
    "execution": {
     "iopub.execute_input": "2021-10-14T13:54:25.877668Z",
     "iopub.status.busy": "2021-10-14T13:54:25.877056Z",
     "iopub.status.idle": "2021-10-14T13:54:56.033504Z",
     "shell.execute_reply": "2021-10-14T13:54:56.032737Z",
     "shell.execute_reply.started": "2021-10-14T13:54:25.877613Z"
    },
    "tags": []
   },
   "outputs": [
    {
     "name": "stdout",
     "output_type": "stream",
     "text": [
      "Shape                              : [    3560 / 601 ] \n"
     ]
    }
   ],
   "source": [
    "ds_refs_sim = cpa.add_func_clusters(ds_refs)\n",
    "info(ds_refs_sim)"
   ]
  },
  {
   "cell_type": "code",
   "execution_count": 4,
   "metadata": {
    "ExecuteTime": {
     "end_time": "2021-08-27T10:38:47.181477Z",
     "start_time": "2021-08-27T10:38:46.832656Z"
    },
    "execution": {
     "iopub.execute_input": "2021-10-14T13:54:56.034773Z",
     "iopub.status.busy": "2021-10-14T13:54:56.034521Z",
     "iopub.status.idle": "2021-10-14T13:54:57.860620Z",
     "shell.execute_reply": "2021-10-14T13:54:57.859735Z",
     "shell.execute_reply.started": "2021-10-14T13:54:56.034739Z"
    },
    "tags": []
   },
   "outputs": [],
   "source": [
    "u.write_tsv(ds_refs_sim, \"../output/ds_refs_sim_to_clusters.tsv\")"
   ]
  },
  {
   "cell_type": "markdown",
   "metadata": {},
   "source": [
    "## Reduced Data Set for DataWarrior"
   ]
  },
  {
   "cell_type": "code",
   "execution_count": 5,
   "metadata": {
    "ExecuteTime": {
     "end_time": "2021-08-27T10:37:32.604513Z",
     "start_time": "2021-08-27T10:37:32.540173Z"
    },
    "execution": {
     "iopub.execute_input": "2021-10-14T13:54:57.861961Z",
     "iopub.status.busy": "2021-10-14T13:54:57.861687Z",
     "iopub.status.idle": "2021-10-14T13:54:57.898869Z",
     "shell.execute_reply": "2021-10-14T13:54:57.898104Z",
     "shell.execute_reply.started": "2021-10-14T13:54:57.861915Z"
    },
    "tags": []
   },
   "outputs": [
    {
     "name": "stdout",
     "output_type": "stream",
     "text": [
      "Shape                              : [    3560 /  22 ] \n"
     ]
    }
   ],
   "source": [
    "df = ds_refs_sim.copy()\n",
    "\n",
    "columns = [\"Compound_Id\", \"Well_Id\", \"Is_Ref\", \"Conc_uM\", \"Rel_Cell_Count\", \"Induction\"]\n",
    "\n",
    "clusters = cpa.get_func_cluster_names(prefix=\"Cluster_\")\n",
    "columns.extend(clusters)\n",
    "columns.extend([\"Cluster_High\", \"Cluster_Sim\"])\n",
    "columns.extend([\"Trivial_Name\", \"Known_Act\"])\n",
    "columns.extend([\"Chiral\", \"Smiles\"])\n",
    "\n",
    "df = df[columns]\n",
    "info(df)"
   ]
  },
  {
   "cell_type": "code",
   "execution_count": 6,
   "metadata": {
    "ExecuteTime": {
     "end_time": "2021-08-27T10:38:16.414568Z",
     "start_time": "2021-08-27T10:38:16.254397Z"
    },
    "execution": {
     "iopub.execute_input": "2021-10-14T13:54:57.900488Z",
     "iopub.status.busy": "2021-10-14T13:54:57.900228Z",
     "iopub.status.idle": "2021-10-14T13:54:58.057239Z",
     "shell.execute_reply": "2021-10-14T13:54:58.055574Z",
     "shell.execute_reply.started": "2021-10-14T13:54:57.900454Z"
    }
   },
   "outputs": [],
   "source": [
    "u.write_tsv(df, \"../output/ds_refs_sim_to_clusters_dw.txt\")"
   ]
  },
  {
   "cell_type": "markdown",
   "metadata": {},
   "source": [
    "## Add Cluster Similaritites to List of Cluster Defining Compounds"
   ]
  },
  {
   "cell_type": "code",
   "execution_count": 2,
   "metadata": {},
   "outputs": [
    {
     "name": "stdout",
     "output_type": "stream",
     "text": [
      "read_tsv                           : [     227 /   5 ] ( Well_Id, Cluster, Induction, Conc_uM, Trivial_Name )\n",
      "read_tsv                           : [    3560 /  22 ] \n"
     ]
    }
   ],
   "source": [
    "df_cl = u.read_tsv(\"../input/cluster_cpds.tsv\")\n",
    "df_ref = u.read_tsv(\"../output/ds_refs_sim_to_clusters_dw.txt\")"
   ]
  },
  {
   "cell_type": "code",
   "execution_count": 8,
   "metadata": {},
   "outputs": [],
   "source": [
    "result = []\n",
    "clusters = cpa.get_func_cluster_names()\n",
    "for cl in clusters:\n",
    "    tmp = df_cl[df_cl[\"Cluster\"] == cl]\n",
    "    assert len(tmp) > 0\n",
    "    tmp = pd.merge(tmp, df_ref[[\"Well_Id\", f\"Cluster_{cl}\"]], on=\"Well_Id\", how=\"left\")\n",
    "    tmp = tmp.rename(columns={f\"Cluster_{cl}\": \"Cluster_Sim\"})\n",
    "    tmp = tmp.round(decimals={\"Cluster_Sim\": 0})\n",
    "    result.append(tmp)\n",
    "df_res = pd.concat(result)\n",
    "u.write_tsv(df_res, \"../output/cluster_cpds_with_cluster_sim.tsv\")"
   ]
  },
  {
   "cell_type": "code",
   "execution_count": null,
   "metadata": {},
   "outputs": [],
   "source": []
  },
  {
   "cell_type": "markdown",
   "metadata": {},
   "source": [
    "## Create Data Set for Web App"
   ]
  },
  {
   "cell_type": "code",
   "execution_count": 17,
   "metadata": {},
   "outputs": [],
   "source": [
    "df_wa = df.copy()\n",
    "df_wa = df_wa.query('Is_Ref')\n",
    "df_wa[[\"C_Id\", \"Batch_No\", \"Rest\"]] = df_wa[\"Well_Id\"].str.split(\":\", n=2, expand=True)"
   ]
  },
  {
   "cell_type": "code",
   "execution_count": 18,
   "metadata": {},
   "outputs": [],
   "source": [
    "columns = [\n",
    "    'Compound_Id', \"Batch_No\", 'Well_Id', 'Is_Ref', 'Conc_uM', 'Rel_Cell_Count',\n",
    "    'Induction', 'Cluster_AKT_PI3K_MTOR', 'Cluster_Aurora', 'Cluster_BET',\n",
    "    'Cluster_DNA_Synth', 'Cluster_HDAC', 'Cluster_HSP90', 'Cluster_LCH',\n",
    "    'Cluster_Protein_Synth', 'Cluster_Tubulin', 'Cluster_Uncoupler',\n",
    "    'Cluster_High', 'Cluster_Sim', 'Trivial_Name', 'Known_Act', 'Chiral',\n",
    "    'Smiles'\n",
    "]\n",
    "df_wa[\"Batch_No\"] = df_wa[\"Batch_No\"].astype(int)\n",
    "df_wa = df_wa[columns]\n",
    "df_wa = df_wa.sort_values([\"Compound_Id\", \"Batch_No\", \"Conc_uM\"])"
   ]
  },
  {
   "cell_type": "code",
   "execution_count": 19,
   "metadata": {},
   "outputs": [],
   "source": [
    "u.write_tsv(df_wa, \"../output/ds_refs_sim_to_clusters_webapp.tsv\")"
   ]
  },
  {
   "cell_type": "markdown",
   "metadata": {},
   "source": [
    "## Cross-Similarity Plot (Pair Plot)"
   ]
  },
  {
   "cell_type": "code",
   "execution_count": 2,
   "metadata": {},
   "outputs": [
    {
     "name": "stdout",
     "output_type": "stream",
     "text": [
      "Timestamp: 01-Jul-2022 14:52:40\n",
      "read_tsv                           : [    3560 / 601 ] \n",
      "Shape                              : [    3547 / 601 ] \n"
     ]
    }
   ],
   "source": [
    "u.timestamp()\n",
    "ds_refs_sim = u.read_tsv(\"../output/ds_refs_sim_to_clusters.tsv\").query('Is_Ref')\n",
    "info(ds_refs_sim)"
   ]
  },
  {
   "cell_type": "code",
   "execution_count": null,
   "metadata": {
    "execution": {
     "iopub.status.busy": "2021-10-14T13:54:58.089267Z",
     "iopub.status.idle": "2021-10-14T13:54:58.090167Z",
     "shell.execute_reply": "2021-10-14T13:54:58.089738Z",
     "shell.execute_reply.started": "2021-10-14T13:54:58.089693Z"
    },
    "tags": []
   },
   "outputs": [],
   "source": [
    "clusters = cpa.get_func_cluster_names(prefix=\"Cluster_\")\n",
    "tmp = ds_refs_sim[clusters].copy()\n",
    "renames = {\n",
    "    'Cluster_AKT_PI3K_MTOR': 'AKT/PI3K/MTOR',\n",
    "    'Cluster_Aurora': 'Aurora',\n",
    "    'Cluster_BET': 'BET',\n",
    "    'Cluster_DNA_Synth': 'DNA Synth',\n",
    "    'Cluster_HDAC': 'HDAC',\n",
    "    'Cluster_HSP90': 'HSP90',\n",
    "    'Cluster_LCH': 'LCH',\n",
    "    'Cluster_Protein_Synth': 'Protein Synth',\n",
    "    'Cluster_Tubulin': 'Tubulin',\n",
    "    'Cluster_Uncoupler': 'Uncoupling'\n",
    "}\n",
    "# for x in clusters:\n",
    "#     renames[x] = x[8:]\n",
    "tmp = tmp.rename(columns=renames)\n",
    "pp = sns.pairplot(tmp)\n",
    "plt.savefig(\"plots/clusters_pairplot.png\")\n",
    "plt.savefig(\"plots/clusters_pairplot.svg\")"
   ]
  },
  {
   "cell_type": "code",
   "execution_count": null,
   "metadata": {},
   "outputs": [],
   "source": []
  }
 ],
 "metadata": {
  "hide_input": false,
  "kernelspec": {
   "display_name": "Python 3.9.12 ('subprof')",
   "language": "python",
   "name": "python3"
  },
  "language_info": {
   "codemirror_mode": {
    "name": "ipython",
    "version": 3
   },
   "file_extension": ".py",
   "mimetype": "text/x-python",
   "name": "python",
   "nbconvert_exporter": "python",
   "pygments_lexer": "ipython3",
   "version": "3.9.12"
  },
  "nav_menu": {},
  "toc": {
   "base_numbering": 1,
   "nav_menu": {},
   "number_sections": true,
   "sideBar": true,
   "skip_h1_title": true,
   "title_cell": "Table of Contents",
   "title_sidebar": "Contents",
   "toc_cell": false,
   "toc_position": {},
   "toc_section_display": "block",
   "toc_window_display": false
  },
  "toc-autonumbering": true,
  "toc-showcode": false,
  "toc-showtags": false,
  "vscode": {
   "interpreter": {
    "hash": "c6ec9714a79777eae1ae2d9b0151c7a796f40272fd9461fa5f8f3d73b3926ef5"
   }
  }
 },
 "nbformat": 4,
 "nbformat_minor": 4
}
