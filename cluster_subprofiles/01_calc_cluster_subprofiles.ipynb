{
 "cells": [
  {
   "cell_type": "markdown",
   "metadata": {},
   "source": [
    "# Define Masks\n",
    "\n",
    "<div align=\"right\">Last executed: 02-May-2022</div>\n",
    "\n",
    "Define cluster masks from lists of compounds.\n",
    "\n",
    "The list of measurements provided by Slava is used for this (Cluster definitions_SZ_15_03_22_for Axel.xlsx)"
   ]
  },
  {
   "cell_type": "code",
   "execution_count": 1,
   "metadata": {
    "ExecuteTime": {
     "end_time": "2021-06-09T14:32:25.438494Z",
     "start_time": "2021-06-09T14:32:22.756926Z"
    },
    "autorun": true,
    "execution": {
     "iopub.execute_input": "2021-10-12T13:04:38.070340Z",
     "iopub.status.busy": "2021-10-12T13:04:38.069934Z",
     "iopub.status.idle": "2021-10-12T13:04:39.280946Z",
     "shell.execute_reply": "2021-10-12T13:04:39.280538Z",
     "shell.execute_reply.started": "2021-10-12T13:04:38.070237Z"
    },
    "hide_input": false,
    "init_cell": true,
    "tags": []
   },
   "outputs": [
    {
     "name": "stdout",
     "output_type": "stream",
     "text": [
      "Timestamp: 20-May-2022 15:17:37\n"
     ]
    }
   ],
   "source": [
    "%reload_ext autoreload\n",
    "%autoreload 2\n",
    "\n",
    "import gc\n",
    "import time\n",
    "# import os.path as op\n",
    "\n",
    "# Type hints\n",
    "from typing import Iterable, List, Set, Dict, Union, Optional\n",
    "\n",
    "import numpy as np\n",
    "import pandas as pd\n",
    "\n",
    "import matplotlib.pyplot as plt\n",
    "\n",
    "from IPython.core.interactiveshell import InteractiveShell\n",
    "InteractiveShell.ast_node_interactivity = \"all\"\n",
    "\n",
    "from jupy_tools import plt_style, cpa\n",
    "from jupy_tools import utils as u\n",
    "from jupy_tools.utils import info\n",
    "u.timestamp()"
   ]
  },
  {
   "cell_type": "markdown",
   "metadata": {},
   "source": [
    "## Read Data Set and Define Parameters"
   ]
  },
  {
   "cell_type": "code",
   "execution_count": 2,
   "metadata": {
    "execution": {
     "iopub.execute_input": "2021-10-12T13:10:15.166718Z",
     "iopub.status.busy": "2021-10-12T13:10:15.166351Z",
     "iopub.status.idle": "2021-10-12T13:10:15.469667Z",
     "shell.execute_reply": "2021-10-12T13:10:15.469213Z",
     "shell.execute_reply.started": "2021-10-12T13:10:15.166685Z"
    },
    "tags": []
   },
   "outputs": [
    {
     "name": "stdout",
     "output_type": "stream",
     "text": [
      "read_tsv                           : [    3547 / 589 ] \n"
     ]
    }
   ],
   "source": [
    "df_org = u.read_tsv(\"../input/ds_refs.tsv\")"
   ]
  },
  {
   "cell_type": "code",
   "execution_count": 3,
   "metadata": {
    "execution": {
     "iopub.execute_input": "2021-10-12T13:10:17.234676Z",
     "iopub.status.busy": "2021-10-12T13:10:17.234431Z",
     "iopub.status.idle": "2021-10-12T13:10:17.255686Z",
     "shell.execute_reply": "2021-10-12T13:10:17.254959Z",
     "shell.execute_reply.started": "2021-10-12T13:10:17.234648Z"
    },
    "tags": []
   },
   "outputs": [
    {
     "name": "stdout",
     "output_type": "stream",
     "text": [
      "read_tsv                           : [     227 /   2 ] ( Well_Id, Cluster )\n"
     ]
    }
   ],
   "source": [
    "filter_method = \"signum\"\n",
    "fraction = 0.85\n",
    "\n",
    "well_ids = u.read_tsv(\"../input/cluster_cpds.tsv\")[[\"Well_Id\", \"Cluster\"]]"
   ]
  },
  {
   "cell_type": "markdown",
   "metadata": {},
   "source": [
    "### Calculate Feature Set and Median Profile for Clusters"
   ]
  },
  {
   "cell_type": "code",
   "execution_count": 4,
   "metadata": {
    "execution": {
     "iopub.execute_input": "2021-10-12T13:10:18.997538Z",
     "iopub.status.busy": "2021-10-12T13:10:18.997260Z",
     "iopub.status.idle": "2021-10-12T13:10:19.024975Z",
     "shell.execute_reply": "2021-10-12T13:10:19.024166Z",
     "shell.execute_reply.started": "2021-10-12T13:10:18.997507Z"
    },
    "tags": []
   },
   "outputs": [
    {
     "name": "stdout",
     "output_type": "stream",
     "text": [
      "['AKT_PI3K_MTOR', 'Aurora', 'BET', 'DNA_Synth', 'HDAC', 'HSP90', 'LCH', 'Protein_Synth', 'Tubulin', 'Uncoupler']\n"
     ]
    },
    {
     "data": {
      "text/html": [
       "<div>\n",
       "<style scoped>\n",
       "    .dataframe tbody tr th:only-of-type {\n",
       "        vertical-align: middle;\n",
       "    }\n",
       "\n",
       "    .dataframe tbody tr th {\n",
       "        vertical-align: top;\n",
       "    }\n",
       "\n",
       "    .dataframe thead th {\n",
       "        text-align: right;\n",
       "    }\n",
       "</style>\n",
       "<table border=\"1\" class=\"dataframe\">\n",
       "  <thead>\n",
       "    <tr style=\"text-align: right;\">\n",
       "      <th></th>\n",
       "      <th>Cluster</th>\n",
       "      <th>Count</th>\n",
       "    </tr>\n",
       "  </thead>\n",
       "  <tbody>\n",
       "    <tr>\n",
       "      <th>0</th>\n",
       "      <td>AKT_PI3K_MTOR</td>\n",
       "      <td>18</td>\n",
       "    </tr>\n",
       "    <tr>\n",
       "      <th>1</th>\n",
       "      <td>Aurora</td>\n",
       "      <td>22</td>\n",
       "    </tr>\n",
       "    <tr>\n",
       "      <th>2</th>\n",
       "      <td>BET</td>\n",
       "      <td>31</td>\n",
       "    </tr>\n",
       "    <tr>\n",
       "      <th>3</th>\n",
       "      <td>DNA_Synth</td>\n",
       "      <td>29</td>\n",
       "    </tr>\n",
       "    <tr>\n",
       "      <th>4</th>\n",
       "      <td>HDAC</td>\n",
       "      <td>30</td>\n",
       "    </tr>\n",
       "    <tr>\n",
       "      <th>5</th>\n",
       "      <td>HSP90</td>\n",
       "      <td>4</td>\n",
       "    </tr>\n",
       "    <tr>\n",
       "      <th>6</th>\n",
       "      <td>LCH</td>\n",
       "      <td>49</td>\n",
       "    </tr>\n",
       "    <tr>\n",
       "      <th>7</th>\n",
       "      <td>Protein_Synth</td>\n",
       "      <td>3</td>\n",
       "    </tr>\n",
       "    <tr>\n",
       "      <th>8</th>\n",
       "      <td>Tubulin</td>\n",
       "      <td>34</td>\n",
       "    </tr>\n",
       "    <tr>\n",
       "      <th>9</th>\n",
       "      <td>Uncoupler</td>\n",
       "      <td>7</td>\n",
       "    </tr>\n",
       "  </tbody>\n",
       "</table>\n",
       "</div>"
      ],
      "text/plain": [
       "         Cluster  Count\n",
       "0  AKT_PI3K_MTOR     18\n",
       "1         Aurora     22\n",
       "2            BET     31\n",
       "3      DNA_Synth     29\n",
       "4           HDAC     30\n",
       "5          HSP90      4\n",
       "6            LCH     49\n",
       "7  Protein_Synth      3\n",
       "8        Tubulin     34\n",
       "9      Uncoupler      7"
      ]
     },
     "execution_count": 4,
     "metadata": {},
     "output_type": "execute_result"
    }
   ],
   "source": [
    "tmp = well_ids.sort_values(\"Cluster\").groupby(\"Cluster\").count().reset_index().rename(columns={\"Well_Id\": \"Count\"})\n",
    "clusters = sorted(list(well_ids[\"Cluster\"].unique()))\n",
    "print(clusters)\n",
    "tmp"
   ]
  },
  {
   "cell_type": "code",
   "execution_count": 5,
   "metadata": {
    "execution": {
     "iopub.execute_input": "2021-10-12T13:10:22.634963Z",
     "iopub.status.busy": "2021-10-12T13:10:22.634358Z",
     "iopub.status.idle": "2021-10-12T13:10:24.467627Z",
     "shell.execute_reply": "2021-10-12T13:10:24.467264Z",
     "shell.execute_reply.started": "2021-10-12T13:10:22.634926Z"
    },
    "tags": []
   },
   "outputs": [
    {
     "name": "stdout",
     "output_type": "stream",
     "text": [
      "Cluster: AKT_PI3K_MTOR    Measurements:  18    Found:  18    Features: 435\n",
      "Cluster: Aurora           Measurements:  22    Found:  22    Features: 358\n",
      "Cluster: BET              Measurements:  31    Found:  31    Features: 497\n",
      "Cluster: DNA_Synth        Measurements:  29    Found:  29    Features: 288\n",
      "Cluster: HDAC             Measurements:  30    Found:  30    Features: 378\n",
      "Cluster: HSP90            Measurements:   4    Found:   4    Features: 406\n",
      "Cluster: LCH              Measurements:  49    Found:  49    Features: 504\n",
      "Cluster: Protein_Synth    Measurements:   3    Found:   3    Features: 409\n",
      "Cluster: Tubulin          Measurements:  34    Found:  34    Features: 424\n",
      "Cluster: Uncoupler        Measurements:   7    Found:   7    Features: 415\n"
     ]
    }
   ],
   "source": [
    "for cl in clusters:\n",
    "    tmp = well_ids[well_ids[\"Cluster\"] == cl]\n",
    "    df_cl = pd.merge(tmp, df_org, on=\"Well_Id\", how=\"inner\")\n",
    "    \n",
    "    cl_feat = cpa.cluster_features(df_cl, fraction=fraction)\n",
    "    print(f\"Cluster: {cl:13s}    Measurements: {len(tmp):3d}    Found: {len(df_cl):3d}    Features: {len(cl_feat):3d}\")\n",
    "    \n",
    "    _ = open(f\"../output/parms_{cl}_{fraction:.2f}.txt\", \"w\").write(\"\\n\".join(cl_feat))"
   ]
  },
  {
   "cell_type": "markdown",
   "metadata": {},
   "source": [
    "# Calculate Median Profiles"
   ]
  },
  {
   "cell_type": "code",
   "execution_count": 6,
   "metadata": {
    "execution": {
     "iopub.execute_input": "2021-10-12T13:16:58.850823Z",
     "iopub.status.busy": "2021-10-12T13:16:58.850589Z",
     "iopub.status.idle": "2021-10-12T13:17:00.870482Z",
     "shell.execute_reply": "2021-10-12T13:17:00.870088Z",
     "shell.execute_reply.started": "2021-10-12T13:16:58.850797Z"
    },
    "tags": []
   },
   "outputs": [
    {
     "name": "stdout",
     "output_type": "stream",
     "text": [
      "Cluster: AKT_PI3K_MTOR    Features: 435\n",
      "  - Re-calculating xticks...\n"
     ]
    },
    {
     "name": "stderr",
     "output_type": "stream",
     "text": [
      "/home/pahl/dev/python3/pkg_links/jupy_tools/cpa.py:1025: UserWarning: Tight layout not applied. The bottom and top margins cannot be made large enough to accommodate all axes decorations.\n",
      "  plt.tight_layout()\n"
     ]
    },
    {
     "data": {
      "text/plain": [
       "2559"
      ]
     },
     "execution_count": 6,
     "metadata": {},
     "output_type": "execute_result"
    },
    {
     "name": "stdout",
     "output_type": "stream",
     "text": [
      "Cluster: Aurora           Features: 358\n",
      "  - Re-calculating xticks...\n"
     ]
    },
    {
     "name": "stderr",
     "output_type": "stream",
     "text": [
      "/home/pahl/dev/python3/pkg_links/jupy_tools/cpa.py:1025: UserWarning: Tight layout not applied. The bottom and top margins cannot be made large enough to accommodate all axes decorations.\n",
      "  plt.tight_layout()\n"
     ]
    },
    {
     "data": {
      "text/plain": [
       "0"
      ]
     },
     "execution_count": 6,
     "metadata": {},
     "output_type": "execute_result"
    },
    {
     "name": "stdout",
     "output_type": "stream",
     "text": [
      "Cluster: BET              Features: 497\n",
      "  - Re-calculating xticks...\n"
     ]
    },
    {
     "name": "stderr",
     "output_type": "stream",
     "text": [
      "/home/pahl/dev/python3/pkg_links/jupy_tools/cpa.py:1025: UserWarning: Tight layout not applied. The bottom and top margins cannot be made large enough to accommodate all axes decorations.\n",
      "  plt.tight_layout()\n"
     ]
    },
    {
     "data": {
      "text/plain": [
       "0"
      ]
     },
     "execution_count": 6,
     "metadata": {},
     "output_type": "execute_result"
    },
    {
     "name": "stdout",
     "output_type": "stream",
     "text": [
      "Cluster: DNA_Synth        Features: 288\n",
      "  - Re-calculating xticks...\n"
     ]
    },
    {
     "name": "stderr",
     "output_type": "stream",
     "text": [
      "/home/pahl/dev/python3/pkg_links/jupy_tools/cpa.py:1025: UserWarning: Tight layout not applied. The bottom and top margins cannot be made large enough to accommodate all axes decorations.\n",
      "  plt.tight_layout()\n"
     ]
    },
    {
     "data": {
      "text/plain": [
       "0"
      ]
     },
     "execution_count": 6,
     "metadata": {},
     "output_type": "execute_result"
    },
    {
     "name": "stdout",
     "output_type": "stream",
     "text": [
      "Cluster: HDAC             Features: 378\n",
      "  - Re-calculating xticks...\n"
     ]
    },
    {
     "name": "stderr",
     "output_type": "stream",
     "text": [
      "/home/pahl/dev/python3/pkg_links/jupy_tools/cpa.py:1025: UserWarning: Tight layout not applied. The bottom and top margins cannot be made large enough to accommodate all axes decorations.\n",
      "  plt.tight_layout()\n"
     ]
    },
    {
     "data": {
      "text/plain": [
       "0"
      ]
     },
     "execution_count": 6,
     "metadata": {},
     "output_type": "execute_result"
    },
    {
     "name": "stdout",
     "output_type": "stream",
     "text": [
      "Cluster: HSP90            Features: 406\n",
      "  - Re-calculating xticks...\n"
     ]
    },
    {
     "name": "stderr",
     "output_type": "stream",
     "text": [
      "/home/pahl/dev/python3/pkg_links/jupy_tools/cpa.py:1025: UserWarning: Tight layout not applied. The bottom and top margins cannot be made large enough to accommodate all axes decorations.\n",
      "  plt.tight_layout()\n"
     ]
    },
    {
     "data": {
      "text/plain": [
       "0"
      ]
     },
     "execution_count": 6,
     "metadata": {},
     "output_type": "execute_result"
    },
    {
     "name": "stdout",
     "output_type": "stream",
     "text": [
      "Cluster: LCH              Features: 504\n",
      "  - Re-calculating xticks...\n"
     ]
    },
    {
     "name": "stderr",
     "output_type": "stream",
     "text": [
      "/home/pahl/dev/python3/pkg_links/jupy_tools/cpa.py:1025: UserWarning: Tight layout not applied. The bottom and top margins cannot be made large enough to accommodate all axes decorations.\n",
      "  plt.tight_layout()\n"
     ]
    },
    {
     "data": {
      "text/plain": [
       "0"
      ]
     },
     "execution_count": 6,
     "metadata": {},
     "output_type": "execute_result"
    },
    {
     "name": "stdout",
     "output_type": "stream",
     "text": [
      "Cluster: Protein_Synth    Features: 409\n",
      "  - Re-calculating xticks...\n"
     ]
    },
    {
     "name": "stderr",
     "output_type": "stream",
     "text": [
      "/home/pahl/dev/python3/pkg_links/jupy_tools/cpa.py:1025: UserWarning: Tight layout not applied. The bottom and top margins cannot be made large enough to accommodate all axes decorations.\n",
      "  plt.tight_layout()\n"
     ]
    },
    {
     "data": {
      "text/plain": [
       "0"
      ]
     },
     "execution_count": 6,
     "metadata": {},
     "output_type": "execute_result"
    },
    {
     "name": "stdout",
     "output_type": "stream",
     "text": [
      "Cluster: Tubulin          Features: 424\n",
      "  - Re-calculating xticks...\n"
     ]
    },
    {
     "name": "stderr",
     "output_type": "stream",
     "text": [
      "/home/pahl/dev/python3/pkg_links/jupy_tools/cpa.py:1025: UserWarning: Tight layout not applied. The bottom and top margins cannot be made large enough to accommodate all axes decorations.\n",
      "  plt.tight_layout()\n"
     ]
    },
    {
     "data": {
      "text/plain": [
       "0"
      ]
     },
     "execution_count": 6,
     "metadata": {},
     "output_type": "execute_result"
    },
    {
     "name": "stdout",
     "output_type": "stream",
     "text": [
      "Cluster: Uncoupler        Features: 415\n",
      "  - Re-calculating xticks...\n"
     ]
    },
    {
     "name": "stderr",
     "output_type": "stream",
     "text": [
      "/home/pahl/dev/python3/pkg_links/jupy_tools/cpa.py:1025: UserWarning: Tight layout not applied. The bottom and top margins cannot be made large enough to accommodate all axes decorations.\n",
      "  plt.tight_layout()\n"
     ]
    },
    {
     "data": {
      "text/plain": [
       "0"
      ]
     },
     "execution_count": 6,
     "metadata": {},
     "output_type": "execute_result"
    }
   ],
   "source": [
    "for cl in clusters:\n",
    "    tmp = well_ids[well_ids[\"Cluster\"] == cl]\n",
    "    cl_feat = u.load_list(f\"../output/parms_{cl}_{fraction:.2f}.txt\")\n",
    "    print(f\"Cluster: {cl:13s}    Features: {len(cl_feat):3d}\")\n",
    "    df_cl = pd.merge(tmp, df_org, on=\"Well_Id\", how=\"inner\")\n",
    "    med_prof = df_cl[cl_feat].median().values\n",
    "    df_mp = pd.DataFrame(data=(med_prof,), columns=cl_feat)\n",
    "    df_mp[\"Well_Id\"] = cl\n",
    "    \n",
    "    size = 2.77 + (17.0 * len(cl_feat) / 579)\n",
    "    width = int(160.0 + (1020 * len(cl_feat) / 579))\n",
    "    hm = cpa.heat_mpl(\n",
    "        df_mp, id_prop=\"Well_Id\", features=cl_feat, show=False, \n",
    "        img_size = size, img_tag_options=f'style=\"width: {width}px;\"',\n",
    "        save_to_file=[f\"plots/hm_med_prof_{cl}_{fraction:.2f}.png\", f\"plots/hm_med_prof_{cl}_{fraction:.2f}.svg\"]\n",
    "    )\n",
    "    plt.clf()\n",
    "    plt.close()\n",
    "    gc.collect()\n",
    "    df_mp.to_csv(f\"../output/med_prof_{cl}.tsv\", sep=\"\\t\", index=False)"
   ]
  },
  {
   "cell_type": "code",
   "execution_count": null,
   "metadata": {},
   "outputs": [],
   "source": []
  }
 ],
 "metadata": {
  "hide_input": false,
  "interpreter": {
   "hash": "37153b94131a3d7082d6c68e8b98d7f7b74466979501bcc288f838b196fe7ed5"
  },
  "kernelspec": {
   "display_name": "Python 3.9.12 ('chem')",
   "language": "python",
   "name": "python3"
  },
  "language_info": {
   "codemirror_mode": {
    "name": "ipython",
    "version": 3
   },
   "file_extension": ".py",
   "mimetype": "text/x-python",
   "name": "python",
   "nbconvert_exporter": "python",
   "pygments_lexer": "ipython3",
   "version": "3.9.12"
  },
  "nav_menu": {},
  "toc": {
   "base_numbering": 1,
   "nav_menu": {},
   "number_sections": true,
   "sideBar": true,
   "skip_h1_title": true,
   "title_cell": "Table of Contents",
   "title_sidebar": "Contents",
   "toc_cell": false,
   "toc_position": {},
   "toc_section_display": "block",
   "toc_window_display": false
  }
 },
 "nbformat": 4,
 "nbformat_minor": 4
}
